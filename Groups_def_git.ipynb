{
 "cells": [
  {
   "cell_type": "markdown",
   "metadata": {},
   "source": [
    "# Petit programme pour faire des groupes d'élèves\n",
    "*Mélanie - Marc-André - décembre 2017 / janvier 2018*\n",
    "\n",
    "## Initialisation"
   ]
  },
  {
   "cell_type": "code",
   "execution_count": 1,
   "metadata": {},
   "outputs": [],
   "source": [
    "import collections\n",
    "import numpy as np\n",
    "from collections import namedtuple\n",
    "from random import sample, randrange, random\n",
    "import csv\n",
    "import copy\n",
    "with open('list_6e5.csv', newline='') as csvfile:\n",
    "    persons = csv.reader(csvfile, delimiter=',', quotechar='|')\n",
    "    pers = list(persons)   \n"
   ]
  },
  {
   "cell_type": "markdown",
   "metadata": {},
   "source": [
    "## Structure de départ en listes puis dictionnaires"
   ]
  },
  {
   "cell_type": "code",
   "execution_count": 2,
   "metadata": {},
   "outputs": [],
   "source": [
    "# V.3 liste\n",
    "def creategroupes(liste_p, nb_min_pers):\n",
    "    \"\"\"\n",
    "    renvoie une liste de listes (groupes d'élèves) \n",
    "    à partir d'une liste d'élèves non-groupés\n",
    "    en fonction du nombre minimum d'élèves par groupe\n",
    "    \"\"\"\n",
    "    nb_grp, r = divmod(len(liste_p), nb_min_pers)\n",
    "    groupes = [liste_p[p:p+nb_min_pers] for p in range(0, nb_grp*nb_min_pers, nb_min_pers)]\n",
    "    for p in range(nb_grp*nb_min_pers, len(liste_p)):  # ensuite ceux qui restent\n",
    "        groupes[p%nb_grp].append(liste_p[p])\n",
    "    return groupes"
   ]
  },
  {
   "cell_type": "code",
   "execution_count": 3,
   "metadata": {},
   "outputs": [],
   "source": [
    "def lx(liste_p):\n",
    "    \"\"\"\n",
    "    renvoie une liste de listes des différents groupes d'élèves qui ne doivent\n",
    "    pas être dans le même groupe\n",
    "    \"\"\"\n",
    "    from collections import defaultdict\n",
    "    dicex = defaultdict(list)\n",
    "    for e in liste_p:\n",
    "        dicex[e[3]].append(e[:2])\n",
    "    return [e for k, e in dicex.items() if k is not \"\"]   "
   ]
  },
  {
   "cell_type": "code",
   "execution_count": 4,
   "metadata": {},
   "outputs": [
    {
     "data": {
      "text/plain": [
       "[[['BERNARD Olivier', '1'],\n",
       "  ['KIESELE Killian', '1'],\n",
       "  ['SIMSEK Kenan', '2'],\n",
       "  ['TUUGAHALA Teiva', '2']]]"
      ]
     },
     "execution_count": 4,
     "metadata": {},
     "output_type": "execute_result"
    }
   ],
   "source": [
    "exclus = lx(pers)\n",
    "exclus"
   ]
  },
  {
   "cell_type": "code",
   "execution_count": 5,
   "metadata": {},
   "outputs": [
    {
     "data": {
      "text/plain": [
       "[[['BERNARD Olivier', '1', 'm', 'g1'],\n",
       "  ['BESLAY Antoine', '4', 'm', ''],\n",
       "  ['BINA Juliette', '2', 'f', ''],\n",
       "  ['TURAN Aysu', '3', 'f', '']],\n",
       " [['BOUSILA Benjamin', '4', 'm', ''],\n",
       "  ['CHABAN Sonia', '5', 'f', ''],\n",
       "  ['DA SILVA Line', '2', 'f', ''],\n",
       "  ['TUUGAHALA Teiva', '2', 'm', 'g1']],\n",
       " [['GALJAARDT Fleur', '4', 'f', ''],\n",
       "  ['JACQUIN Manon', '5', 'f', ''],\n",
       "  ['KIESELE Killian', '1', 'm', 'g1']],\n",
       " [['PEIFFER Jules', '4', 'm', ''],\n",
       "  ['SEMBACH Childéric', '5', 'm', ''],\n",
       "  ['SIMSEK Kenan', '2', 'm', 'g1']]]"
      ]
     },
     "execution_count": 5,
     "metadata": {},
     "output_type": "execute_result"
    }
   ],
   "source": [
    "groups = creategroupes(pers, 3)\n",
    "groups"
   ]
  },
  {
   "cell_type": "markdown",
   "metadata": {},
   "source": [
    "## Définition et calcul des contraintes\n",
    "\n",
    "Plus les contraintes sont respectées, plus le retour chiffré est proche de zéro.\n"
   ]
  },
  {
   "cell_type": "code",
   "execution_count": 6,
   "metadata": {},
   "outputs": [],
   "source": [
    "# contraintes\n",
    "def unbon(group):   \n",
    "    \"il faut au moins un bon\"\n",
    "    \n",
    "    niveaux = [int(g[1]) for g in group] \n",
    "    result = (4-(max(niveaux)-min(niveaux))) + (1/np.std(niveaux))\n",
    "       \n",
    "    return result\n",
    "\n",
    "def mixmf(group):\n",
    "    \"il faut mélanger m et f\"\n",
    "    m = 0\n",
    "    f = 0\n",
    "    for g in group:\n",
    "        if g[2] == 'm':\n",
    "            m += 1\n",
    "        else:\n",
    "            f += 1\n",
    "    return abs(m-f)\n",
    "\n",
    "def exclusions(group, exclus = exclus):\n",
    "    \"\"\"\n",
    "    Elle empêche que des élèves exclus se retrouvent ensemble\n",
    "    Elle récupère le nombre d'élèves exclus présents dans le \n",
    "    groupe et donne une note en fonction\n",
    "    \"\"\"\n",
    "    result = 0\n",
    "    elevesX = [(g[0]) for g in group if g[0] in exclus]\n",
    "    if len(elevesX) > 1:\n",
    "        result = len(elevesX)-1\n",
    "    return result                           "
   ]
  },
  {
   "cell_type": "code",
   "execution_count": 7,
   "metadata": {},
   "outputs": [],
   "source": [
    "# V. liste\n",
    "def calc_score(groups, exclus):\n",
    "    \"\"\"\n",
    "    renvoie le score de la classe en fonction des\n",
    "    résultats obtenus pour chaque critère dans chaque groupe\n",
    "    permet de pondérer les différents critères\n",
    "    \"\"\"\n",
    "    score = 0\n",
    "    for group in groups:  \n",
    "        score += 3*unbon(group)\n",
    "        score += mixmf(group)\n",
    "        score += exclusions(group, exclus)\n",
    "    return score"
   ]
  },
  {
   "cell_type": "code",
   "execution_count": 8,
   "metadata": {},
   "outputs": [
    {
     "data": {
      "text/plain": [
       "22.163079043213727"
      ]
     },
     "execution_count": 8,
     "metadata": {},
     "output_type": "execute_result"
    }
   ],
   "source": [
    "score_classe = calc_score(groups, exclus)\n",
    "score_classe"
   ]
  },
  {
   "cell_type": "markdown",
   "metadata": {},
   "source": [
    "## Inversion \n",
    "\n",
    "Permutation au hasard de deux élèves de deux groupes différents"
   ]
  },
  {
   "cell_type": "code",
   "execution_count": 9,
   "metadata": {},
   "outputs": [],
   "source": [
    "def deplace(config_avant):\n",
    "    \"\"\"\n",
    "    choisir au hasard deux élèves dans deux groupes différents\n",
    "    les échanger de groupe\n",
    "    \"\"\"\n",
    "    from copy import deepcopy\n",
    "    # prend deux groupes au hasard\n",
    "    g1, g2 = sample(range(len(config_avant)), 2)\n",
    "    # prend un élève au hasard dans chacun\n",
    "    e1 = randrange(len(config_avant[g1]))\n",
    "    e2 = randrange(len(config_avant[g2]))\n",
    "    # tu les échanges\n",
    "    config_apres = deepcopy(config_avant)\n",
    "    config_apres[g2][e2], config_apres[g1][e1] = config_avant[g1][e1], config_avant[g2][e2]\n",
    "    return config_apres"
   ]
  },
  {
   "cell_type": "code",
   "execution_count": 10,
   "metadata": {},
   "outputs": [
    {
     "data": {
      "text/plain": [
       "([[['BERNARD Olivier', '1', 'm', 'g1'],\n",
       "   ['BESLAY Antoine', '4', 'm', ''],\n",
       "   ['BINA Juliette', '2', 'f', ''],\n",
       "   ['TURAN Aysu', '3', 'f', '']],\n",
       "  [['BOUSILA Benjamin', '4', 'm', ''],\n",
       "   ['CHABAN Sonia', '5', 'f', ''],\n",
       "   ['DA SILVA Line', '2', 'f', ''],\n",
       "   ['TUUGAHALA Teiva', '2', 'm', 'g1']],\n",
       "  [['SEMBACH Childéric', '5', 'm', ''],\n",
       "   ['JACQUIN Manon', '5', 'f', ''],\n",
       "   ['KIESELE Killian', '1', 'm', 'g1']],\n",
       "  [['PEIFFER Jules', '4', 'm', ''],\n",
       "   ['GALJAARDT Fleur', '4', 'f', ''],\n",
       "   ['SIMSEK Kenan', '2', 'm', 'g1']]],\n",
       " 23.765653422767446)"
      ]
     },
     "execution_count": 10,
     "metadata": {},
     "output_type": "execute_result"
    }
   ],
   "source": [
    "group_modif = deplace(groups)\n",
    "group_modif, calc_score(group_modif, exclus)"
   ]
  },
  {
   "cell_type": "markdown",
   "metadata": {},
   "source": [
    "## Composition du meilleur groupe\n",
    "\n",
    "Vérification de la pertinence du changement jusqu'à obtention du score le plus bas possible"
   ]
  },
  {
   "cell_type": "code",
   "execution_count": 11,
   "metadata": {},
   "outputs": [],
   "source": [
    "def algo1(eleves, taillegroupe, exclus, grand_nombre=1000):\n",
    "    \"\"\"\n",
    "    vérifie que la configuration après échange donne un meilleur score, \n",
    "    sinon annule et teste un autre échange,\n",
    "    le tout un très grand nombre de fois pour s'approcher\n",
    "    du meilleur score possible\n",
    "    \"\"\"\n",
    "    \n",
    "    # genre... une recherche au hasard\n",
    "    config = creategroupes(eleves, taillegroupe)\n",
    "    meilleure = config                   # on garde la meilleure \"so-far\"\n",
    "    score_meil = calc_score(meilleure, exclus)   # la première fait l'affaire.\n",
    "    for i in range(grand_nombre):\n",
    "        score = calc_score(config, exclus)\n",
    "        config_apres = deplace(config)\n",
    "        score_apres = calc_score(config_apres, exclus)\n",
    "        if score_apres<score_meil:       # garde si c'est meilleur\n",
    "            score_meil = score_apres\n",
    "            meilleure = config\n",
    "        config = config_apres # et déplace - toujours - marche au hasard !\n",
    "    return meilleure"
   ]
  },
  {
   "cell_type": "code",
   "execution_count": 12,
   "metadata": {},
   "outputs": [],
   "source": [
    "def metropolis(init, exclus, temperature=10, iterations=1000):\n",
    "    \"\"\"\n",
    "    vérifie que la configuration après échange donne un meilleur score, \n",
    "    sinon annule et teste un autre échange,\n",
    "    le tout un très grand nombre de fois pour s'approcher\n",
    "    du meilleur score possible\n",
    "    \"\"\"\n",
    "    \n",
    "    # genre... une recherche au hasard\n",
    "    config = init\n",
    "    meilleure = config                   # on garde la meilleure \"so-far\"\n",
    "    score_meil = calc_score(meilleure, exclus)   # la première fait l'affaire.\n",
    "    for i in range(iterations):\n",
    "        score = calc_score(config, exclus)\n",
    "        config_apres = deplace(config)\n",
    "        score_apres = calc_score(config_apres, exclus)\n",
    "        if score_apres<score_meil:       # garde si c'est meilleur\n",
    "            score_meil = score_apres\n",
    "            meilleure = config\n",
    "        if score>score_apres:\n",
    "            config = config_apres # et déplace - toujours - marche au hasard !\n",
    "        else:\n",
    "            if random() < 0.5:\n",
    "                config = config_apres\n",
    "    return meilleure"
   ]
  },
  {
   "cell_type": "code",
   "execution_count": 13,
   "metadata": {},
   "outputs": [],
   "source": [
    "config = creategroupes(pers,3)\n"
   ]
  },
  {
   "cell_type": "code",
   "execution_count": 14,
   "metadata": {},
   "outputs": [
    {
     "name": "stderr",
     "output_type": "stream",
     "text": [
      "/home/mel/anaconda3/lib/python3.7/site-packages/ipykernel_launcher.py:6: RuntimeWarning: divide by zero encountered in double_scalars\n",
      "  \n"
     ]
    },
    {
     "data": {
      "text/plain": [
       "([[['SEMBACH Childéric', '5', 'm', ''],\n",
       "   ['DA SILVA Line', '2', 'f', ''],\n",
       "   ['TUUGAHALA Teiva', '2', 'm', 'g1'],\n",
       "   ['TURAN Aysu', '3', 'f', '']],\n",
       "  [['BERNARD Olivier', '1', 'm', 'g1'],\n",
       "   ['BINA Juliette', '2', 'f', ''],\n",
       "   ['CHABAN Sonia', '5', 'f', ''],\n",
       "   ['BESLAY Antoine', '4', 'm', '']],\n",
       "  [['BOUSILA Benjamin', '4', 'm', ''],\n",
       "   ['GALJAARDT Fleur', '4', 'f', ''],\n",
       "   ['SIMSEK Kenan', '2', 'm', 'g1']],\n",
       "  [['PEIFFER Jules', '4', 'm', ''],\n",
       "   ['JACQUIN Manon', '5', 'f', ''],\n",
       "   ['KIESELE Killian', '1', 'm', 'g1']]],\n",
       " 20.293882070467326)"
      ]
     },
     "execution_count": 14,
     "metadata": {},
     "output_type": "execute_result"
    }
   ],
   "source": [
    "result = metropolis(config, exclus, iterations = 1000)\n",
    "result, calc_score(result, exclus)"
   ]
  },
  {
   "cell_type": "code",
   "execution_count": 15,
   "metadata": {},
   "outputs": [],
   "source": [
    "def montre(groups):\n",
    "    \"montre le résultat\"\n",
    "    for i, g in enumerate(groups):\n",
    "        print(\"Groupe %d\"%(i+1))\n",
    "        print(\"=========\")\n",
    "        for e in g:\n",
    "            print(e[0], end=\", \")\n",
    "        print()\n",
    "        for func in (unbon, mixmf, exclusions):\n",
    "            print(\"%s : %.2f\"%(func.__name__, func(g)))\n",
    "    print(\"note totale: %.2f\"%calc_score(groups, exclus))"
   ]
  },
  {
   "cell_type": "code",
   "execution_count": 16,
   "metadata": {},
   "outputs": [
    {
     "name": "stdout",
     "output_type": "stream",
     "text": [
      "Groupe 1\n",
      "=========\n",
      "SEMBACH Childéric, DA SILVA Line, TUUGAHALA Teiva, TURAN Aysu, \n",
      "unbon : 1.82\n",
      "mixmf : 0.00\n",
      "exclusions : 0.00\n",
      "Groupe 2\n",
      "=========\n",
      "BERNARD Olivier, BINA Juliette, CHABAN Sonia, BESLAY Antoine, \n",
      "unbon : 0.63\n",
      "mixmf : 0.00\n",
      "exclusions : 0.00\n",
      "Groupe 3\n",
      "=========\n",
      "BOUSILA Benjamin, GALJAARDT Fleur, SIMSEK Kenan, \n",
      "unbon : 3.06\n",
      "mixmf : 1.00\n",
      "exclusions : 0.00\n",
      "Groupe 4\n",
      "=========\n",
      "PEIFFER Jules, JACQUIN Manon, KIESELE Killian, \n",
      "unbon : 0.59\n",
      "mixmf : 1.00\n",
      "exclusions : 0.00\n",
      "note totale: 20.29\n"
     ]
    }
   ],
   "source": [
    "montre(result)"
   ]
  },
  {
   "cell_type": "code",
   "execution_count": 17,
   "metadata": {},
   "outputs": [],
   "source": [
    "from IPython.display import HTML, display_html\n",
    "from datetime import datetime"
   ]
  },
  {
   "cell_type": "code",
   "execution_count": 18,
   "metadata": {},
   "outputs": [],
   "source": [
    "def montre_2(groups):\n",
    "    score = calc_score(groups, exclus)            \n",
    "    dd = \"<table border=1><tr><th colspan={} style ='background-color:#cdcdf0;'><div style='text-align:center;font-size:30px;'> Groupes de la classe</div><div style='text-align:right;'> {} --------> score : {sc:.2f} </div></th></tr>\".format(len(groups)+1, datetime.now().strftime('%Y-%m-%d'), sc=score)\n",
    "    for i,j in enumerate(groups):\n",
    "        dd += \"<tr><td style='font-weight:bold;background-color:#cdcdf0;'>{}</td>\".format(\"Groupe \" + str(i+1))\n",
    "        for g in j:\n",
    "            dd += \"<td style='text-align:left;'>\" + g[0] + \"</td>\"\n",
    "        dd += \"</tr>\"\n",
    "    dd += \"</table>\"\n",
    "        \n",
    "    display_html(HTML(dd))\n",
    "        \n",
    "    "
   ]
  },
  {
   "cell_type": "code",
   "execution_count": 19,
   "metadata": {},
   "outputs": [
    {
     "data": {
      "text/html": [
       "<table border=1><tr><th colspan=5 style ='background-color:#cdcdf0;'><div style='text-align:center;font-size:30px;'> Groupes de la classe</div><div style='text-align:right;'> 2019-11-16 --------> score : 20.29 </div></th></tr><tr><td style='font-weight:bold;background-color:#cdcdf0;'>Groupe 1</td><td style='text-align:left;'>SEMBACH Childéric</td><td style='text-align:left;'>DA SILVA Line</td><td style='text-align:left;'>TUUGAHALA Teiva</td><td style='text-align:left;'>TURAN Aysu</td></tr><tr><td style='font-weight:bold;background-color:#cdcdf0;'>Groupe 2</td><td style='text-align:left;'>BERNARD Olivier</td><td style='text-align:left;'>BINA Juliette</td><td style='text-align:left;'>CHABAN Sonia</td><td style='text-align:left;'>BESLAY Antoine</td></tr><tr><td style='font-weight:bold;background-color:#cdcdf0;'>Groupe 3</td><td style='text-align:left;'>BOUSILA Benjamin</td><td style='text-align:left;'>GALJAARDT Fleur</td><td style='text-align:left;'>SIMSEK Kenan</td></tr><tr><td style='font-weight:bold;background-color:#cdcdf0;'>Groupe 4</td><td style='text-align:left;'>PEIFFER Jules</td><td style='text-align:left;'>JACQUIN Manon</td><td style='text-align:left;'>KIESELE Killian</td></tr></table>"
      ]
     },
     "metadata": {},
     "output_type": "display_data"
    }
   ],
   "source": [
    "montre_2(result)"
   ]
  },
  {
   "cell_type": "code",
   "execution_count": 20,
   "metadata": {},
   "outputs": [
    {
     "data": {
      "text/html": [
       "<table border=1><tr><th colspan=5 style ='background-color:#cdcdf0;'><div style='text-align:center;font-size:30px;'> Groupes de la classe</div><div style='text-align:right;'>2019-11-16--------> score : 20.29 </div></th></tr><tr><td style='font-weight:bold;background-color:#cdcdf0;'>Groupe 1</td><td style='text-align:left;'>SEMBACH Childéric</td><td style='text-align:left;'>DA SILVA Line</td><td style='text-align:left;'>TUUGAHALA Teiva</td><td style='text-align:left;'>TURAN Aysu</td></tr><tr><td style='font-weight:bold;background-color:#cdcdf0;'>Groupe 2</td><td style='text-align:left;'>BERNARD Olivier</td><td style='text-align:left;'>BINA Juliette</td><td style='text-align:left;'>CHABAN Sonia</td><td style='text-align:left;'>BESLAY Antoine</td></tr><tr><td style='font-weight:bold;background-color:#cdcdf0;'>Groupe 3</td><td style='text-align:left;'>BOUSILA Benjamin</td><td style='text-align:left;'>GALJAARDT Fleur</td><td style='text-align:left;'>SIMSEK Kenan</td></tr><tr><td style='font-weight:bold;background-color:#cdcdf0;'>Groupe 4</td><td style='text-align:left;'>PEIFFER Jules</td><td style='text-align:left;'>JACQUIN Manon</td><td style='text-align:left;'>KIESELE Killian</td></tr></table>"
      ]
     },
     "metadata": {},
     "output_type": "display_data"
    }
   ],
   "source": [
    "# là, je sépare simplement le html et le python en suivant ton code\n",
    "temptable = \"<table border=1><tr><th colspan=\"+str(len(groups)+1)+\" style ='background-color:#cdcdf0;'><div style='text-align:center;font-size:30px;'> Groupes de la classe</div><div style='text-align:right;'>\" + datetime.now().strftime('%Y-%m-%d') + \"--------> score : {} </div></th></tr>{}</table>\"\n",
    "templine = \"<tr><td style='font-weight:bold;background-color:#cdcdf0;'>Groupe {}</td>{}</tr>\"\n",
    "tempcell = \"<td style='text-align:left;'>{}</td>\"\n",
    "def montre_3(groups):\n",
    "    score = calc_score(groups, exclus)\n",
    "    lines = \"\"\n",
    "    for i,j in enumerate(groups):\n",
    "        cells = \"\"\n",
    "        for g in j:\n",
    "            cells += tempcell.format(g[0])\n",
    "        lines += templine.format(i+1, cells)\n",
    "    table = temptable.format(round(score,2), lines)\n",
    "    display_html(HTML(table))\n",
    "        \n",
    "montre_3(result)"
   ]
  },
  {
   "cell_type": "code",
   "execution_count": 21,
   "metadata": {},
   "outputs": [
    {
     "data": {
      "text/html": [
       "<table border=1><tr><th colspan=5 style ='background-color:#cdcdf0;'><div style='text-align:center;font-size:30px;'> Groupes de la classe</div><div style='text-align:right;'>2019-11-16--------> score : 20.29 </div></th></tr><tr><td style='font-weight:bold;background-color:#cdcdf0;'>Groupe 1</td><td style='text-align:left;'>SEMBACH Childéric</td> <td style='text-align:left;'>DA SILVA Line</td> <td style='text-align:left;'>TUUGAHALA Teiva</td> <td style='text-align:left;'>TURAN Aysu</td></tr><tr><td style='font-weight:bold;background-color:#cdcdf0;'>Groupe 2</td><td style='text-align:left;'>BERNARD Olivier</td> <td style='text-align:left;'>BINA Juliette</td> <td style='text-align:left;'>CHABAN Sonia</td> <td style='text-align:left;'>BESLAY Antoine</td></tr><tr><td style='font-weight:bold;background-color:#cdcdf0;'>Groupe 3</td><td style='text-align:left;'>BOUSILA Benjamin</td> <td style='text-align:left;'>GALJAARDT Fleur</td> <td style='text-align:left;'>SIMSEK Kenan</td></tr><tr><td style='font-weight:bold;background-color:#cdcdf0;'>Groupe 4</td><td style='text-align:left;'>PEIFFER Jules</td> <td style='text-align:left;'>JACQUIN Manon</td> <td style='text-align:left;'>KIESELE Killian</td></tr></table>"
      ]
     },
     "metadata": {},
     "output_type": "display_data"
    }
   ],
   "source": [
    "# la même chose, mais sans la boucle centrale (j'aime bien - je trouve plus lisible)\n",
    "temptable = \"<table border=1><tr><th colspan=\"+str(len(groups)+1)+\" style ='background-color:#cdcdf0;'><div style='text-align:center;font-size:30px;'> Groupes de la classe</div><div style='text-align:right;'>\" + datetime.now().strftime('%Y-%m-%d') + \"--------> score : {} </div></th></tr>{}</table>\"\n",
    "templine = \"<tr><td style='font-weight:bold;background-color:#cdcdf0;'>Groupe {}</td>{}</tr>\"\n",
    "tempcell = \"<td style='text-align:left;'>{}</td>\"\n",
    "def montre_4(groups):\n",
    "    score = calc_score(groups, exclus)\n",
    "    lines = \"\"\n",
    "    for i,j in enumerate(groups):\n",
    "        cells = \" \".join([tempcell.format(g[0]) for g in j])\n",
    "        lines += templine.format(i+1, cells)\n",
    "    table = temptable.format(round(score,2), lines)\n",
    "    display_html(HTML(table))\n",
    "        \n",
    "montre_4(result)"
   ]
  },
  {
   "cell_type": "code",
   "execution_count": 22,
   "metadata": {},
   "outputs": [
    {
     "data": {
      "text/html": [
       "\n",
       "<table border=1>\n",
       "    <tr><th colspan=5 style ='background-color:#cdcdf0;'>\n",
       "        <div style='text-align:center;font-size:30px;'> Groupes de la classe</div><div style='text-align:right;'>\n",
       "        2019-11-16 --------> score : 20.29 </div></th></tr>\n",
       "    <tr><td style='font-weight:bold;background-color:#cdcdf0;'>Groupe 1</td><td style='text-align:left;'>SEMBACH Childéric</td> <td style='text-align:left;'>DA SILVA Line</td> <td style='text-align:left;'>TUUGAHALA Teiva</td> <td style='text-align:left;'>TURAN Aysu</td></tr><tr><td style='font-weight:bold;background-color:#cdcdf0;'>Groupe 2</td><td style='text-align:left;'>BERNARD Olivier</td> <td style='text-align:left;'>BINA Juliette</td> <td style='text-align:left;'>CHABAN Sonia</td> <td style='text-align:left;'>BESLAY Antoine</td></tr><tr><td style='font-weight:bold;background-color:#cdcdf0;'>Groupe 3</td><td style='text-align:left;'>BOUSILA Benjamin</td> <td style='text-align:left;'>GALJAARDT Fleur</td> <td style='text-align:left;'>SIMSEK Kenan</td></tr><tr><td style='font-weight:bold;background-color:#cdcdf0;'>Groupe 4</td><td style='text-align:left;'>PEIFFER Jules</td> <td style='text-align:left;'>JACQUIN Manon</td> <td style='text-align:left;'>KIESELE Killian</td></tr>\n",
       "</table>\n"
      ]
     },
     "metadata": {},
     "output_type": "display_data"
    }
   ],
   "source": [
    "# avec un vrai template\n",
    "temptable = \"\"\"\n",
    "<table border=1>\n",
    "    <tr><th colspan={tablelen} style ='background-color:#cdcdf0;'>\n",
    "        <div style='text-align:center;font-size:30px;'> Groupes de la classe</div><div style='text-align:right;'>\n",
    "        {date} --------> score : {score} </div></th></tr>\n",
    "    {lines}\n",
    "</table>\n",
    "\"\"\"\n",
    "templine = \"<tr><td style='font-weight:bold;background-color:#cdcdf0;'>Groupe {}</td>{}</tr>\"\n",
    "tempcell = \"<td style='text-align:left;'>{}</td>\"\n",
    "def montre_5(groups):\n",
    "    score = round((calc_score(groups, exclus)),2)\n",
    "    lines = \"\"\n",
    "    for i,j in enumerate(groups):\n",
    "        cells = \" \".join([tempcell.format(g[0]) for g in j])\n",
    "        lines += templine.format(i+1, cells)\n",
    "    tablelen = len(groups)+1\n",
    "    date = datetime.now().strftime('%Y-%m-%d')\n",
    "    table = temptable.format(tablelen=tablelen, date=date, score=score, lines=lines)\n",
    "    display_html(HTML(table))\n",
    "        \n",
    "montre_5(result)"
   ]
  },
  {
   "cell_type": "code",
   "execution_count": 23,
   "metadata": {},
   "outputs": [
    {
     "data": {
      "text/html": [
       "\n",
       "<table border=1>\n",
       "    <tr><th colspan=5 style ='background-color:#cdcdf0;'>\n",
       "        <div style='text-align:center;font-size:30px;'> Groupes de la classe</div><div style='text-align:right;'>\n",
       "        2019-11-16 --------> score : 20.29 </div></th></tr>\n",
       "    \n",
       "        <tr>\n",
       "            <td style='font-weight:bold;background-color:#cdcdf0;'>Groupe 1 </td>\n",
       "            \n",
       "                <td style='text-align:left;'>SEMBACH Childéric</td>\n",
       "            \n",
       "                <td style='text-align:left;'>DA SILVA Line</td>\n",
       "            \n",
       "                <td style='text-align:left;'>TUUGAHALA Teiva</td>\n",
       "            \n",
       "                <td style='text-align:left;'>TURAN Aysu</td>\n",
       "            \n",
       "        </tr>\n",
       "    \n",
       "        <tr>\n",
       "            <td style='font-weight:bold;background-color:#cdcdf0;'>Groupe 2 </td>\n",
       "            \n",
       "                <td style='text-align:left;'>BERNARD Olivier</td>\n",
       "            \n",
       "                <td style='text-align:left;'>BINA Juliette</td>\n",
       "            \n",
       "                <td style='text-align:left;'>CHABAN Sonia</td>\n",
       "            \n",
       "                <td style='text-align:left;'>BESLAY Antoine</td>\n",
       "            \n",
       "        </tr>\n",
       "    \n",
       "        <tr>\n",
       "            <td style='font-weight:bold;background-color:#cdcdf0;'>Groupe 3 </td>\n",
       "            \n",
       "                <td style='text-align:left;'>BOUSILA Benjamin</td>\n",
       "            \n",
       "                <td style='text-align:left;'>GALJAARDT Fleur</td>\n",
       "            \n",
       "                <td style='text-align:left;'>SIMSEK Kenan</td>\n",
       "            \n",
       "        </tr>\n",
       "    \n",
       "        <tr>\n",
       "            <td style='font-weight:bold;background-color:#cdcdf0;'>Groupe 4 </td>\n",
       "            \n",
       "                <td style='text-align:left;'>PEIFFER Jules</td>\n",
       "            \n",
       "                <td style='text-align:left;'>JACQUIN Manon</td>\n",
       "            \n",
       "                <td style='text-align:left;'>KIESELE Killian</td>\n",
       "            \n",
       "        </tr>\n",
       "    \n",
       "</table>"
      ]
     },
     "metadata": {},
     "output_type": "display_data"
    }
   ],
   "source": [
    "import jinja2\n",
    "from jinja2 import Template\n",
    "temptable = \"\"\"\n",
    "<table border=1>\n",
    "    <tr><th colspan={{tablelen}} style ='background-color:#cdcdf0;'>\n",
    "        <div style='text-align:center;font-size:30px;'> Groupes de la classe</div><div style='text-align:right;'>\n",
    "        {{date}} --------> score : {{\"%.2f\"|format(score)}} </div></th></tr>\n",
    "    {% for j in groups %}\n",
    "        <tr>\n",
    "            <td style='font-weight:bold;background-color:#cdcdf0;'>Groupe {{loop.index}} </td>\n",
    "            {% for g in j %}\n",
    "                <td style='text-align:left;'>{{g[0]}}</td>\n",
    "            {% endfor %}\n",
    "        </tr>\n",
    "    {% endfor %}\n",
    "</table>\n",
    "\"\"\"\n",
    "\n",
    "\n",
    "    \n",
    "def montre_6(groups):\n",
    "    score = calc_score(groups, exclus)    # je calcule tous les champs\n",
    "    tablelen = len(groups)+1\n",
    "    date = datetime.now().strftime('%Y-%m-%d')\n",
    "    table = Template(temptable)           # je crée le prgm template avec le bon html jinja\n",
    "    html = table.render(locals())         # je fais le rendu, en passant locals()\n",
    "    display_html(HTML(html))              # c'est du html\n",
    "\n",
    "montre_6(result)\n",
    "\n"
   ]
  },
  {
   "cell_type": "code",
   "execution_count": null,
   "metadata": {},
   "outputs": [],
   "source": []
  },
  {
   "cell_type": "code",
   "execution_count": null,
   "metadata": {
    "collapsed": true
   },
   "outputs": [],
   "source": []
  }
 ],
 "metadata": {
  "anaconda-cloud": {},
  "kernelspec": {
   "display_name": "Python 3",
   "language": "python",
   "name": "python3"
  },
  "language_info": {
   "codemirror_mode": {
    "name": "ipython",
    "version": 3
   },
   "file_extension": ".py",
   "mimetype": "text/x-python",
   "name": "python",
   "nbconvert_exporter": "python",
   "pygments_lexer": "ipython3",
   "version": "3.7.0"
  }
 },
 "nbformat": 4,
 "nbformat_minor": 2
}
